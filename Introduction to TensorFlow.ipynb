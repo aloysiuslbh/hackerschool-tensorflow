{
 "cells": [
  {
   "cell_type": "markdown",
   "metadata": {},
   "source": [
    "# What is a Tensor?\n",
    "What's a tensor?\n",
    "- a $n$ dimensional array\n",
    "- 0 dimensional tensor: scalar (number)\n",
    "- 1 dimensional tensor: vector\n",
    "- 2 dimensional tensor: matrix"
   ]
  },
  {
   "cell_type": "markdown",
   "metadata": {},
   "source": [
    "## Data Flow Graphs"
   ]
  },
  {
   "cell_type": "code",
   "execution_count": 7,
   "metadata": {},
   "outputs": [],
   "source": [
    "import tensorflow as tf\n",
    "a = tf.add(3, 5)"
   ]
  },
  {
   "cell_type": "markdown",
   "metadata": {},
   "source": [
    "## Visualizing the Data Flow Graph\n",
    "\n",
    "And while for small examples you might be able to look at the code and immediately see what is going on, larger computation graphs might not be so obvious. Visualizing the graph can help both in diagnosing issues with the computation itself, but also in understanding how certain operations in TensorFlow work and how are things put together.\n",
    "\n",
    "All we need to do is save it using the `tf.summary.FileWriter`, which takes a directory and a graph, and serializes the graph in a format that TensorBoard can read. The directory can be anything you'd like, just make sure you point to the same directory using the tensorboard --logdir=DIR command (DIR being the directory you specified to the FileWriter)."
   ]
  },
  {
   "cell_type": "code",
   "execution_count": 25,
   "metadata": {},
   "outputs": [],
   "source": [
    "tf.summary.FileWriter(\"logs\", tf.get_default_graph()).close()"
   ]
  },
  {
   "cell_type": "markdown",
   "metadata": {},
   "source": [
    "Next, open up a console and navigate to the same directory from which you executed the FileWriter command, and run \n",
    "\n",
    "```sh\n",
    "tensorboard --logdir=logs\n",
    "\n",
    "```\n",
    "This will launch an instance of TensorBoard which you can access at http://localhost:6006. Then navigate to the Graphs section and you should see a graph that looks like the following image. Note that you can also click on the nodes in the graph to inspect them further.\n",
    "\n",
    "You should get something like this:\n",
    "![alt text](images/adder_graph.png \"Title\")\n",
    "\n"
   ]
  },
  {
   "cell_type": "markdown",
   "metadata": {},
   "source": [
    "Let's see what the value of `a` is:"
   ]
  },
  {
   "cell_type": "code",
   "execution_count": 5,
   "metadata": {},
   "outputs": [
    {
     "name": "stdout",
     "output_type": "stream",
     "text": [
      "Tensor(\"Add:0\", shape=(), dtype=int32)\n"
     ]
    }
   ],
   "source": [
    "print(a)"
   ]
  },
  {
   "cell_type": "markdown",
   "metadata": {},
   "source": [
    "## How to get the value of `a`?\n",
    "\n",
    "Create a `session`, assign it to a variable `sess` so that we can access it later. Within the session, evaluate the graph to fetch the value of `a`"
   ]
  },
  {
   "cell_type": "code",
   "execution_count": 10,
   "metadata": {},
   "outputs": [
    {
     "name": "stdout",
     "output_type": "stream",
     "text": [
      "8\n"
     ]
    }
   ],
   "source": [
    "sess = tf.Session()\n",
    "print(sess.run(a))\n",
    "sess.close()"
   ]
  },
  {
   "cell_type": "markdown",
   "metadata": {},
   "source": [
    "Alternatively, we can do the following:"
   ]
  },
  {
   "cell_type": "code",
   "execution_count": 5,
   "metadata": {},
   "outputs": [
    {
     "name": "stdout",
     "output_type": "stream",
     "text": [
      "8\n"
     ]
    }
   ],
   "source": [
    "with tf.Session() as sess:\n",
    "    print(sess.run(a))"
   ]
  },
  {
   "cell_type": "markdown",
   "metadata": {},
   "source": [
    "`tf.Session()`: a session object encapsulates the environment in which operation objects are executed and Tensor objects are evaluated"
   ]
  },
  {
   "cell_type": "markdown",
   "metadata": {},
   "source": [
    "## Practice With More Graphs"
   ]
  },
  {
   "cell_type": "code",
   "execution_count": 6,
   "metadata": {
    "collapsed": true
   },
   "outputs": [],
   "source": [
    "x = 2\n",
    "y = 3\n",
    "op1 = tf.add(x, y)\n",
    "op2 = tf.multiply(x, y)\n",
    "op3 = tf.pow(op1, op2)\n",
    "with tf.Session() as sess:\n",
    "    op3 = sess.run(op3)"
   ]
  },
  {
   "cell_type": "markdown",
   "metadata": {},
   "source": [
    "Here is how the graph looks like, see if you can generate it yourself.\n",
    "![alt text](images/graph2.png \"Title\")"
   ]
  },
  {
   "cell_type": "markdown",
   "metadata": {},
   "source": [
    "## TensorFlow Variables\n",
    "\n",
    "A TensorFlow variable is the best way to represent shared, persistent state manipulated by your program.\n",
    "\n",
    "When you train a model, you use variables to hold and update parameters. Variables are in-memory buffers containing tensors."
   ]
  },
  {
   "cell_type": "code",
   "execution_count": 14,
   "metadata": {},
   "outputs": [
    {
     "name": "stdout",
     "output_type": "stream",
     "text": [
      "[[ 1.  1.]\n",
      " [ 1.  1.]]\n",
      "[[ 0.  0.]\n",
      " [ 0.  0.]]\n"
     ]
    }
   ],
   "source": [
    "W1 = tf.ones((2,2)) # constant\n",
    "W2 = tf.Variable(tf.zeros((2,2)), name=\"weights\")\n",
    "\n",
    "with tf.Session() as sess:\n",
    "    print(sess.run(W1))\n",
    "    sess.run(tf.global_variables_initializer())\n",
    "    print(sess.run(W2))"
   ]
  },
  {
   "cell_type": "markdown",
   "metadata": {},
   "source": [
    "TensorFlow variables must be initialized before they have variables! Do so with `tf.global_variables_initializer()`. Note that older tutorials might use `tf.initialize_all_variables()`, that has been deprecated.\n",
    "\n",
    "### Updating Variable State\n",
    "\n",
    "To assign a value to a variable, use method `assign`. \n"
   ]
  },
  {
   "cell_type": "code",
   "execution_count": 15,
   "metadata": {},
   "outputs": [
    {
     "name": "stdout",
     "output_type": "stream",
     "text": [
      "0\n",
      "1\n",
      "2\n",
      "3\n"
     ]
    }
   ],
   "source": [
    "state = tf.Variable(0, name=\"counter\")\n",
    "new_value = tf.add(state, tf.constant(1))\n",
    "update = tf.assign(state, new_value)\n",
    "\n",
    "with tf.Session() as sess:\n",
    "    sess.run(tf.global_variables_initializer())\n",
    "    print(sess.run(state))\n",
    "    for _ in range(3):\n",
    "        sess.run(update)\n",
    "        print(sess.run(state))"
   ]
  },
  {
   "cell_type": "markdown",
   "metadata": {},
   "source": [
    "### Fetching Variable State\n",
    "\n",
    "Calling `sess.run(var)` on a `tf.Session()` object retrieves its value. Can retrieve multiple variables simultaneouly with `sess.run([var1, var2])`\n",
    "\n",
    "(See Fetches in TF docs)\n",
    "(insert the graph)"
   ]
  },
  {
   "cell_type": "code",
   "execution_count": 17,
   "metadata": {},
   "outputs": [
    {
     "name": "stdout",
     "output_type": "stream",
     "text": [
      "[21.0, 7.0]\n"
     ]
    }
   ],
   "source": [
    "input1 = tf.constant(3.0)\n",
    "input2 = tf.constant(2.0)\n",
    "input3 = tf.constant(5.0)\n",
    "intermed = tf.add(input2, input3)\n",
    "mul = tf.multiply(input1, intermed)\n",
    "\n",
    "with tf.Session() as sess:\n",
    "    result = sess.run([mul, intermed])\n",
    "    print(result)"
   ]
  },
  {
   "cell_type": "markdown",
   "metadata": {},
   "source": [
    "### Inputing Data\n",
    "\n",
    "As far, all previous examples have manually defined tensors. What if we want to input external data into TensorFlow?\n",
    "\n",
    "We can use `tf.placeholder` variables (dummy nodes that provide entry points for data to computational graph). A `feed_dict` is a python dictionary that maps `tf.placeholder` vars to data."
   ]
  },
  {
   "cell_type": "code",
   "execution_count": 10,
   "metadata": {},
   "outputs": [
    {
     "name": "stdout",
     "output_type": "stream",
     "text": [
      "[array([ 14.], dtype=float32)]\n"
     ]
    }
   ],
   "source": [
    "input1 = tf.placeholder(tf.float32)\n",
    "input2 = tf.placeholder(tf.float32)\n",
    "\n",
    "output = tf.multiply(input1, input2)\n",
    "\n",
    "with tf.Session() as sess:\n",
    "    print(sess.run([output], feed_dict={input1:[7.], input2:[2.]}))"
   ]
  },
  {
   "cell_type": "markdown",
   "metadata": {},
   "source": [
    "## Example: Linear Regression\n",
    "\n",
    "Make sure that you have `seaborn` and `matplotlib` installed. To display the `matplotlib` plots inline, add:\n",
    "\n",
    "```\n",
    "%matplotlib inline\n",
    "```\n",
    "\n",
    "in the code cell"
   ]
  },
  {
   "cell_type": "code",
   "execution_count": 18,
   "metadata": {
    "scrolled": true
   },
   "outputs": [
    {
     "data": {
      "text/plain": [
       "<matplotlib.collections.PathCollection at 0x7f21300dcac8>"
      ]
     },
     "execution_count": 18,
     "metadata": {},
     "output_type": "execute_result"
    },
    {
     "data": {
      "image/png": "[encoded data removed]",
      "text/plain": [
       "<matplotlib.figure.Figure at 0x7f219469ef98>"
      ]
     },
     "metadata": {},
     "output_type": "display_data"
    }
   ],
   "source": [
    "import tensorflow as tf\n",
    "import numpy as np\n",
    "import seaborn\n",
    "import matplotlib.pyplot as plt\n",
    "%matplotlib inline\n",
    "\n",
    "# Define input data\n",
    "X_data = np.arange(100, step=.1)\n",
    "y_data = X_data + 20 * np.sin(X_data/10)\n",
    "\n",
    "# Plot input data\n",
    "plt.scatter(X_data, y_data)"
   ]
  },
  {
   "cell_type": "code",
   "execution_count": 19,
   "metadata": {},
   "outputs": [],
   "source": [
    "# Define data size and batch size\n",
    "n_samples = 1000\n",
    "batch_size = 100\n",
    "\n",
    "# TensorFlow is particular about shapes, so resize\n",
    "X_data = np.reshape(X_data, (n_samples, 1))\n",
    "y_data = np.reshape(y_data, (n_samples, 1))\n",
    "\n",
    "# Define placeholders for input\n",
    "X = tf.placeholder(tf.float32, shape=(batch_size, 1))\n",
    "y = tf.placeholder(tf.float32, shape=(batch_size, 1))"
   ]
  },
  {
   "cell_type": "code",
   "execution_count": 20,
   "metadata": {},
   "outputs": [],
   "source": [
    "# Define variables to be learned\n",
    "with tf.variable_scope(\"linear-regression\"):\n",
    "    W = tf.get_variable(\"weights\", (1,1),\n",
    "                        initializer = tf.random_normal_initializer())\n",
    "    b = tf.get_variable(\"bias\", (1,),\n",
    "                        initializer = tf.constant_initializer(0.0))\n",
    "    y_pred = tf.matmul(X, W) + b\n",
    "    loss = tf.reduce_sum((y - y_pred)**2/n_samples)\n"
   ]
  },
  {
   "cell_type": "markdown",
   "metadata": {},
   "source": [
    "Loss function is defined as:\n",
    "$$J(W,b) = \\frac{1}{N}\\sum_{i=1}^{N}(y_i-(W_{x_i}+b))^2$$\n",
    "Also known as mean square error."
   ]
  },
  {
   "cell_type": "code",
   "execution_count": 24,
   "metadata": {},
   "outputs": [
    {
     "name": "stdout",
     "output_type": "stream",
     "text": [
      "[array([[ 0.86644107]], dtype=float32), array([ 0.39165646], dtype=float32)]\n"
     ]
    },
    {
     "data": {
      "image/png": "[encoded data removed]",
      "text/plain": [
       "<matplotlib.figure.Figure at 0x7f212fe395c0>"
      ]
     },
     "metadata": {},
     "output_type": "display_data"
    }
   ],
   "source": [
    "# Define optimizer operation\n",
    "opt_operation = tf.train.AdamOptimizer().minimize(loss)\n",
    "\n",
    "with tf.Session() as sess:\n",
    "    # Initialize all variables in graph\n",
    "    sess.run(tf.global_variables_initializer())\n",
    "    # Gradient descent for 500 steps:\n",
    "    for _ in range(500):\n",
    "        # Select from random mini batch\n",
    "        indices = np.random.choice(n_samples, batch_size)\n",
    "        X_batch, y_batch = X_data[indices], y_data[indices]\n",
    "        # Do gradient descent step\n",
    "        _, loss_val = sess.run([opt_operation, loss], feed_dict={X: X_batch, y: y_batch})\n",
    "    print(sess.run([W, b]))\n",
    "\n",
    "    # Display results\n",
    "    plt.scatter(X_data, y_data)\n",
    "    plt.scatter(X_data, sess.run(W) * X_data + sess.run(b), c='g')\n"
   ]
  },
  {
   "cell_type": "markdown",
   "metadata": {},
   "source": [
    "(todo add more analysis and graph)"
   ]
  },
  {
   "cell_type": "markdown",
   "metadata": {},
   "source": [
    "#### TensorFlow Computation\n",
    "\n",
    "Tensflow nodes in computation graph have attached gradient operations. Use backpropagation to compute required gradients for all variables in the graph.\n",
    "\n",
    "### Bonus\n",
    "\n",
    "How does the computational graph look like in TensorBoard?"
   ]
  },
  {
   "cell_type": "code",
   "execution_count": null,
   "metadata": {
    "collapsed": true
   },
   "outputs": [],
   "source": []
  }
 ],
 "metadata": {
  "kernelspec": {
   "display_name": "Python 3",
   "language": "python",
   "name": "python3"
  },
  "language_info": {
   "codemirror_mode": {
    "name": "ipython",
    "version": 3
   },
   "file_extension": ".py",
   "mimetype": "text/x-python",
   "name": "python",
   "nbconvert_exporter": "python",
   "pygments_lexer": "ipython3",
   "version": "3.6.1"
  }
 },
 "nbformat": 4,
 "nbformat_minor": 2
}
