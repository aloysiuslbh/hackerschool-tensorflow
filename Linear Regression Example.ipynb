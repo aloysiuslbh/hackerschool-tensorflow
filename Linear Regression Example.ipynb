{
 "cells": [
  {
   "cell_type": "code",
   "execution_count": 1,
   "metadata": {},
   "outputs": [],
   "source": [
    "import tensorflow as tf\n",
    "import numpy as np\n",
    "import seaborn\n",
    "import matplotlib.pyplot as plt\n",
    "# %matplotlib inline\n",
    "\n",
    "# Define input data\n",
    "X_data = np.arange(100, step=.1)\n",
    "y_data = X_data + 20 * np.sin(X_data/10)\n",
    "\n",
    "# Plot input data\n",
    "# plt.scatter(X_data, y_data)\n",
    "\n",
    "# Define data size and batch size\n",
    "n_samples = 1000\n",
    "batch_size = 100\n",
    "\n",
    "# TensorFlow is particular about shapes, so resize\n",
    "X_data = np.reshape(X_data, (n_samples, 1))\n",
    "y_data = np.reshape(y_data, (n_samples, 1))\n",
    "\n",
    "# Define placeholders for input\n",
    "X = tf.placeholder(tf.float32, shape=(batch_size, 1))\n",
    "y = tf.placeholder(tf.float32, shape=(batch_size, 1))\n",
    "\n",
    "# Define variables to be learned\n",
    "W = tf.get_variable(\"weights\", (1,1),\n",
    "                    initializer = tf.random_normal_initializer())\n",
    "b = tf.get_variable(\"bias\", (1,),\n",
    "                    initializer = tf.constant_initializer(0.0))\n",
    "y_pred = tf.matmul(X, W) + b\n",
    "loss = tf.reduce_sum((y - y_pred)**2/n_samples)\n"
   ]
  },
  {
   "cell_type": "code",
   "execution_count": 2,
   "metadata": {},
   "outputs": [],
   "source": [
    "opt_operation = tf.train.AdamOptimizer().minimize(loss)\n"
   ]
  },
  {
   "cell_type": "code",
   "execution_count": 8,
   "metadata": {},
   "outputs": [
    {
     "name": "stdout",
     "output_type": "stream",
     "text": [
      "[array([[ 1.02398539]], dtype=float32), array([ 1.53926587], dtype=float32)]\n"
     ]
    },
    {
     "data": {
      "image/png": "[encoded data removed]",
      "text/plain": [
       "<matplotlib.figure.Figure at 0x7fdf44c81208>"
      ]
     },
     "metadata": {},
     "output_type": "display_data"
    }
   ],
   "source": [
    "with tf.Session() as sess:\n",
    "    # Initialize all variables in graph\n",
    "    sess.run(tf.global_variables_initializer())\n",
    "    # Gradient descent for 500 steps:\n",
    "    for _ in range(5000):\n",
    "        # Select from random mini batch\n",
    "        indices = np.random.choice(n_samples, batch_size)\n",
    "        X_batch, y_batch = X_data[indices], y_data[indices]\n",
    "        # Do gradient descent step\n",
    "        _, loss_val = sess.run([opt_operation, loss], feed_dict={X: X_batch, y: y_batch})\n",
    "    print(sess.run([W, b]))\n",
    "\n",
    "    # Display results\n",
    "    plt.plot(X_data, y_data, 'bo', label='Testing data')\n",
    "    plt.plot(X_data, sess.run(W) * X_data + sess.run(b), label='Fitted line')\n",
    "    plt.legend()\n",
    "    plt.show()\n"
   ]
  },
  {
   "cell_type": "code",
   "execution_count": null,
   "metadata": {},
   "outputs": [],
   "source": []
  }
 ],
 "metadata": {
  "kernelspec": {
   "display_name": "Python 3",
   "language": "python",
   "name": "python3"
  },
  "language_info": {
   "codemirror_mode": {
    "name": "ipython",
    "version": 3
   },
   "file_extension": ".py",
   "mimetype": "text/x-python",
   "name": "python",
   "nbconvert_exporter": "python",
   "pygments_lexer": "ipython3",
   "version": "3.6.1"
  }
 },
 "nbformat": 4,
 "nbformat_minor": 2
}
